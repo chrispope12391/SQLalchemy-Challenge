{
 "cells": [
  {
   "cell_type": "markdown",
   "metadata": {},
   "source": [
    "# Bonus: Temperature Analysis I"
   ]
  },
  {
   "cell_type": "code",
   "execution_count": null,
   "metadata": {},
   "outputs": [],
   "source": [
    "import pandas as pd\n",
    "from datetime import datetime as dt"
   ]
  },
  {
   "cell_type": "code",
   "execution_count": null,
   "metadata": {},
   "outputs": [],
   "source": [
    "# \"tobs\" is \"temperature observations\"\n",
    "df = pd.read_csv('Resources\\hawaii_measurements.csv')\n",
    "df.head()"
   ]
  },
  {
   "cell_type": "code",
   "execution_count": null,
   "metadata": {},
   "outputs": [],
   "source": [
    "# Convert the date column format from string to datetime\n",
    "df['date'] = pd.to_datetime(df['date'])\n",
    "df"
   ]
  },
  {
   "cell_type": "code",
   "execution_count": null,
   "metadata": {},
   "outputs": [],
   "source": [
    "# Set the date column as the DataFrame index\n",
    "# Drop the date column\n",
    "\n",
    "new_df = df.set_index('date')\n",
    "new_df"
   ]
  },
  {
   "cell_type": "markdown",
   "metadata": {},
   "source": [
    "### Compare June and December data across all years "
   ]
  },
  {
   "cell_type": "code",
   "execution_count": null,
   "metadata": {},
   "outputs": [],
   "source": [
    "from scipy import stats"
   ]
  },
  {
   "cell_type": "code",
   "execution_count": null,
   "metadata": {},
   "outputs": [],
   "source": [
    "# Filter data for desired months\n",
    "june_df = df.loc[(df['date'] < '2010-7-1') & (df['date'] > '2010-5-31') |\n",
    "                 (df['date'] < '2011-7-1') & (df['date'] > '2011-5-31') |\n",
    "                 (df['date'] < '2012-7-1') & (df['date'] > '2012-5-31') |\n",
    "                 (df['date'] < '2013-7-1') & (df['date'] > '2013-5-31') |\n",
    "                 (df['date'] < '2014-7-1') & (df['date'] > '2014-5-31') |\n",
    "                 (df['date'] < '2015-7-1') & (df['date'] > '2015-5-31') |\n",
    "                 (df['date'] < '2016-7-1') & (df['date'] > '2016-5-31') |\n",
    "                 (df['date'] < '2017-7-1') & (df['date'] > '2017-5-31')]\n",
    "june_df"
   ]
  },
  {
   "cell_type": "code",
   "execution_count": null,
   "metadata": {},
   "outputs": [],
   "source": [
    "# Identify the average temperature for June\n",
    "june_average = june_df['tobs'].mean()\n",
    "june_average"
   ]
  },
  {
   "cell_type": "code",
   "execution_count": null,
   "metadata": {},
   "outputs": [],
   "source": [
    "# Identify the average temperature for December\n",
    "dec_df = df.loc[(df['date'] <= '2010-12-31') & (df['date'] > '2010-11-30') |\n",
    "                 (df['date'] <= '2011-12-31') & (df['date'] > '2011-11-30') |\n",
    "                 (df['date'] <= '2012-12-31') & (df['date'] > '2012-11-30') |\n",
    "                 (df['date'] <= '2013-12-31') & (df['date'] > '2013-11-30') |\n",
    "                 (df['date'] <= '2014-12-31') & (df['date'] > '2014-11-30') |\n",
    "                 (df['date'] <= '2015-12-31') & (df['date'] > '2015-11-30') |\n",
    "                 (df['date'] <= '2016-12-31') & (df['date'] > '2016-11-30') |\n",
    "                 (df['date'] <= '2017-12-31') & (df['date'] > '2017-11-30')]\n",
    "dec_df"
   ]
  },
  {
   "cell_type": "code",
   "execution_count": null,
   "metadata": {},
   "outputs": [],
   "source": [
    "dec_average = dec_df['tobs'].mean()\n",
    "dec_average"
   ]
  },
  {
   "cell_type": "code",
   "execution_count": null,
   "metadata": {},
   "outputs": [],
   "source": [
    "# Create collections of temperature data"
   ]
  },
  {
   "cell_type": "code",
   "execution_count": null,
   "metadata": {},
   "outputs": [],
   "source": [
    "# Run paired t-test\n",
    "stats.ttest_ind(dec_df['tobs'], june_df['tobs'], equal_var=True)"
   ]
  },
  {
   "cell_type": "markdown",
   "metadata": {},
   "source": [
    "### Analysis"
   ]
  },
  {
   "cell_type": "code",
   "execution_count": null,
   "metadata": {},
   "outputs": [],
   "source": [
    "For this test we would want to use a paired t-test due to the variance between the two groups being equal.\n",
    "\n",
    "Due to the pvalue being less than 0.5 we can reject the null hypothesis that Hawaii doesnt enjoy mild weather all year long."
   ]
  }
 ],
 "metadata": {
  "kernelspec": {
   "display_name": "Python 3",
   "language": "python",
   "name": "python3"
  },
  "language_info": {
   "codemirror_mode": {
    "name": "ipython",
    "version": 3
   },
   "file_extension": ".py",
   "mimetype": "text/x-python",
   "name": "python",
   "nbconvert_exporter": "python",
   "pygments_lexer": "ipython3",
   "version": "3.6.10"
  }
 },
 "nbformat": 4,
 "nbformat_minor": 4
}
