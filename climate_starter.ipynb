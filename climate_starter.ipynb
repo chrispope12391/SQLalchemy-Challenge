{
 "cells": [
  {
   "cell_type": "code",
   "execution_count": null,
   "metadata": {},
   "outputs": [],
   "source": [
    "%matplotlib inline\n",
    "from matplotlib import style\n",
    "style.use('fivethirtyeight')\n",
    "import matplotlib.pyplot as plt"
   ]
  },
  {
   "cell_type": "code",
   "execution_count": null,
   "metadata": {},
   "outputs": [],
   "source": [
    "import numpy as np\n",
    "import pandas as pd\n",
    "import datetime as dt"
   ]
  },
  {
   "cell_type": "markdown",
   "metadata": {},
   "source": [
    "# Reflect Tables into SQLAlchemy ORM"
   ]
  },
  {
   "cell_type": "code",
   "execution_count": null,
   "metadata": {},
   "outputs": [],
   "source": [
    "# Python SQL toolkit and Object Relational Mapper\n",
    "import sqlalchemy\n",
    "from sqlalchemy.ext.automap import automap_base\n",
    "from sqlalchemy.orm import Session\n",
    "from sqlalchemy import create_engine, func, inspect"
   ]
  },
  {
   "cell_type": "code",
   "execution_count": null,
   "metadata": {},
   "outputs": [],
   "source": [
    "# create engine to hawaii.sqlite\n",
    "engine = create_engine(\"sqlite:///Resources/hawaii.sqlite\")"
   ]
  },
  {
   "cell_type": "code",
   "execution_count": null,
   "metadata": {},
   "outputs": [],
   "source": [
    "# reflect an existing database into a new model\n",
    "inspector = inspect(engine)\n",
    "\n",
    "# reflect the tables\n",
    "inspector.get_table_names()"
   ]
  },
  {
   "cell_type": "code",
   "execution_count": null,
   "metadata": {},
   "outputs": [],
   "source": [
    "# View all of the classes that automap found\n",
    "measurement_col = inspector.get_columns('measurement')\n",
    "station_col = inspector.get_columns('station')\n",
    "for m in measurement_col:\n",
    "    print(m['name'], m['type'])"
   ]
  },
  {
   "cell_type": "code",
   "execution_count": null,
   "metadata": {},
   "outputs": [],
   "source": [
    "for s in station_col:\n",
    "    print(s['name'], s['type'])"
   ]
  },
  {
   "cell_type": "code",
   "execution_count": null,
   "metadata": {},
   "outputs": [],
   "source": [
    "Base = automap_base()\n",
    "Base.prepare(engine, reflect=True)\n",
    "measurement = Base.classes.measurement\n",
    "station = Base.classes.station"
   ]
  },
  {
   "cell_type": "code",
   "execution_count": null,
   "metadata": {},
   "outputs": [],
   "source": [
    "session = Session(engine)"
   ]
  },
  {
   "cell_type": "code",
   "execution_count": null,
   "metadata": {},
   "outputs": [],
   "source": [
    "# Create our session (link) from Python to the DB\n",
    "\n",
    "measurement_stmt = session.query(measurement).\\\n",
    "    order_by(measurement.id).statement\n",
    "measurement_df = pd.read_sql_query(measurement_stmt, session.bind)\n",
    "measurement_df"
   ]
  },
  {
   "cell_type": "code",
   "execution_count": null,
   "metadata": {},
   "outputs": [],
   "source": [
    "count_measurement = measurement_df['station'].nunique()\n",
    "count_measurement"
   ]
  },
  {
   "cell_type": "code",
   "execution_count": null,
   "metadata": {},
   "outputs": [],
   "source": [
    "station_stmt = session.query(station).\\\n",
    "    order_by(station.id).statement\n",
    "station_df = pd.read_sql_query(station_stmt, session.bind)\n",
    "station_df"
   ]
  },
  {
   "cell_type": "markdown",
   "metadata": {},
   "source": [
    "# Exploratory Precipitation Analysis"
   ]
  },
  {
   "cell_type": "code",
   "execution_count": null,
   "metadata": {},
   "outputs": [],
   "source": [
    "# Find the most recent date in the data set.\n",
    "recent_measurement = session.query(measurement).\\\n",
    "    order_by(measurement.date.desc()).statement\n",
    "recent_measure_df = pd.read_sql_query(recent_measurement, session.bind)\n",
    "recent_measure_df"
   ]
  },
  {
   "cell_type": "code",
   "execution_count": null,
   "metadata": {},
   "outputs": [],
   "source": [
    "session.query(measurement.date).order_by(measurement.date.desc()).first()"
   ]
  },
  {
   "cell_type": "code",
   "execution_count": null,
   "metadata": {},
   "outputs": [],
   "source": [
    "year_ago = dt.date(2017,8,23) - dt.timedelta(days=365)\n",
    "year_ago"
   ]
  },
  {
   "cell_type": "code",
   "execution_count": null,
   "metadata": {},
   "outputs": [],
   "source": [
    "twelve_measure = recent_measure_df.loc[recent_measure_df['date'] > '2016-08-22']\n",
    "twelve_measure_clean = twelve_measure[['date','prcp']]\n",
    "twelve_measure_clean.sort_values('date', ascending=False)"
   ]
  },
  {
   "cell_type": "code",
   "execution_count": null,
   "metadata": {},
   "outputs": [],
   "source": [
    "# Design a query to retrieve the last 12 months of precipitation data and plot the results. \n",
    "# Starting from the most recent data point in the database. \n",
    "\n",
    "# Calculate the date one year from the last date in data set.\n",
    "twelve_measure = recent_measure_df.loc[recent_measure_df['date'] > '2016-08-22']\n",
    "\n",
    "\n",
    "# Perform a query to retrieve the data and precipitation scores\n",
    "twelve_measure_clean = twelve_measure[['date','prcp']]\n",
    "\n",
    "\n",
    "# Save the query results as a Pandas DataFrame and set the index to the date column\n",
    "max_twelve = twelve_measure_clean.groupby('date')\n",
    "max_twelve_df = max_twelve.max()\n",
    "\n",
    "avg_twelve = twelve_measure_clean.groupby('date')\n",
    "avg_twelve_df = avg_twelve.mean()\n",
    "\n",
    "sum_twelve = twelve_measure_clean.groupby('date')\n",
    "sum_twelve_df = sum_twelve.sum()\n",
    "# Sort the dataframe by date\n",
    "\n",
    "\n",
    "# Use Pandas Plotting with Matplotlib to plot the data\n",
    "\n",
    "\n",
    "sum_twelve_df"
   ]
  },
  {
   "cell_type": "code",
   "execution_count": null,
   "metadata": {},
   "outputs": [],
   "source": [
    "# Use Pandas to calcualte the summary statistics for the precipitation data\n",
    "clean_twelve = twelve_measure_clean.dropna()\n",
    "sort_clean = clean_twelve.sort_values('date', ascending=True).reset_index()\n",
    "sort_clean"
   ]
  },
  {
   "cell_type": "code",
   "execution_count": null,
   "metadata": {},
   "outputs": [],
   "source": [
    "new_clean = sort_clean[['date', 'prcp']]\n",
    "new_clean_two = new_clean.rename(columns={'prcp':'precipitation'})\n",
    "\n",
    "new_df = new_clean_two.set_index('date')"
   ]
  },
  {
   "cell_type": "code",
   "execution_count": null,
   "metadata": {},
   "outputs": [],
   "source": [
    "plot_twelve = new_df.plot(figsize=(15,10))\n",
    "plt.xticks(rotation=90)\n",
    "plt.title('Precipitation vs. Time')\n",
    "plt.ylabel(\"Inches\")\n",
    "plt.grid(True)\n",
    "plt.show()"
   ]
  },
  {
   "cell_type": "markdown",
   "metadata": {},
   "source": [
    "# Exploratory Station Analysis"
   ]
  },
  {
   "cell_type": "code",
   "execution_count": null,
   "metadata": {},
   "outputs": [],
   "source": [
    "# Design a query to calculate the total number stations in the dataset\n",
    "recent_station = session.query(station).\\\n",
    "    order_by(station.id).statement\n",
    "recent_station_df = pd.read_sql_query(recent_station, session.bind)\n",
    "recent_station_df"
   ]
  },
  {
   "cell_type": "code",
   "execution_count": null,
   "metadata": {},
   "outputs": [],
   "source": [
    "station_sel = [func.count(station.station)]\n",
    "\n",
    "count_station = session.query(*station_sel).\\\n",
    "    order_by(station.station).all()\n",
    "count_station"
   ]
  },
  {
   "cell_type": "code",
   "execution_count": null,
   "metadata": {},
   "outputs": [],
   "source": [
    "combined_station = pd.merge(measurement_df, station_df, on='station', how='left')\n",
    "combined_station"
   ]
  },
  {
   "cell_type": "code",
   "execution_count": null,
   "metadata": {},
   "outputs": [],
   "source": [
    "name = [ 'UPPER WAHIAWA 874.3, HI US', 'PEARL CITY, HI US', 'HONOLULU OBSERVATORY 702.2, HI US','KUALOA RANCH HEADQUARTERS 886.9, HI US',\n",
    "        'MANOA LYON ARBO 785.2, HI US', 'WAIMANALO EXPERIMENTAL FARM, HI US', 'KANEOHE 838.1, HI US', 'WAIKIKI 717.2, HW US',\n",
    "        'WAIHEE 837.5, HI US']"
   ]
  },
  {
   "cell_type": "code",
   "execution_count": null,
   "metadata": {},
   "outputs": [],
   "source": [
    "# Design a query to find the most active stations (i.e. what stations have the most rows?)\n",
    "# List the stations and the counts in descending order.\n",
    "station_count = combined_station.groupby('station')\n",
    "station_count_df = station_count.count()\n",
    "clean_comb = station_count_df[['id_x']]\n",
    "clean_comb_station = clean_comb.rename(columns={'id_x':'Station Count'}).sort_values('Station Count')\n",
    "clean_comb_station['Name'] = name\n",
    "clean_comb_station"
   ]
  },
  {
   "cell_type": "code",
   "execution_count": null,
   "metadata": {},
   "outputs": [],
   "source": [
    "full_station_sel = [measurement.station,\n",
    "                    func.count(measurement.station)]\n",
    "\n",
    "full_count_station = session.query(*full_station_sel).\\\n",
    "    group_by(measurement.station).\\\n",
    "    order_by(func.count(measurement.station)).all()\n",
    "full_count_station"
   ]
  },
  {
   "cell_type": "code",
   "execution_count": null,
   "metadata": {},
   "outputs": [],
   "source": [
    "# Using the most active station id from the previous query, calculate the lowest, highest, and average temperature.\n",
    "\n",
    "sel = [measurement.station,\n",
    "       func.min(measurement.tobs),\n",
    "       func.max(measurement.tobs),\n",
    "       func.avg(measurement.tobs)]\n",
    "\n",
    "active_station = session.query(*sel).\\\n",
    "    filter(measurement.station =='USC00519281').\\\n",
    "    order_by(measurement.station).all()\n",
    "active_station"
   ]
  },
  {
   "cell_type": "code",
   "execution_count": null,
   "metadata": {},
   "outputs": [],
   "source": [
    "# Using the most active station id\n",
    "# Query the last 12 months of temperature observation data for this station and plot the results as a histogram\n",
    "recent_measurement = session.query(measurement.station, measurement.date, measurement.tobs).\\\n",
    "    filter(measurement.station =='USC00519281').\\\n",
    "    filter(measurement.date > '2016-08-22').statement\n",
    "recent_measurement_df = pd.read_sql_query(recent_measurement, session.bind)\n",
    "recent_measurement_df"
   ]
  },
  {
   "cell_type": "code",
   "execution_count": null,
   "metadata": {},
   "outputs": [],
   "source": [
    "active_df = recent_measurement_df[['tobs']]\n",
    "active_df.plot.hist(bins=12)\n",
    "plt.grid(True)\n",
    "plt.show()"
   ]
  },
  {
   "cell_type": "markdown",
   "metadata": {},
   "source": [
    "# Close session"
   ]
  },
  {
   "cell_type": "code",
   "execution_count": null,
   "metadata": {},
   "outputs": [],
   "source": [
    "# Close Session\n",
    "session.close()"
   ]
  },
  {
   "cell_type": "code",
   "execution_count": null,
   "metadata": {},
   "outputs": [],
   "source": []
  }
 ],
 "metadata": {
  "anaconda-cloud": {},
  "kernel_info": {
   "name": "python3"
  },
  "kernelspec": {
   "display_name": "Python 3",
   "language": "python",
   "name": "python3"
  },
  "language_info": {
   "codemirror_mode": {
    "name": "ipython",
    "version": 3
   },
   "file_extension": ".py",
   "mimetype": "text/x-python",
   "name": "python",
   "nbconvert_exporter": "python",
   "pygments_lexer": "ipython3",
   "version": "3.6.10"
  },
  "nteract": {
   "version": "0.12.3"
  },
  "varInspector": {
   "cols": {
    "lenName": 16,
    "lenType": 16,
    "lenVar": 40
   },
   "kernels_config": {
    "python": {
     "delete_cmd_postfix": "",
     "delete_cmd_prefix": "del ",
     "library": "var_list.py",
     "varRefreshCmd": "print(var_dic_list())"
    },
    "r": {
     "delete_cmd_postfix": ") ",
     "delete_cmd_prefix": "rm(",
     "library": "var_list.r",
     "varRefreshCmd": "cat(var_dic_list()) "
    }
   },
   "types_to_exclude": [
    "module",
    "function",
    "builtin_function_or_method",
    "instance",
    "_Feature"
   ],
   "window_display": false
  }
 },
 "nbformat": 4,
 "nbformat_minor": 2
}
